{
  "nbformat": 4,
  "nbformat_minor": 0,
  "metadata": {
    "colab": {
      "provenance": []
    },
    "kernelspec": {
      "name": "python3",
      "display_name": "Python 3"
    },
    "language_info": {
      "name": "python"
    }
  },
  "cells": [
    {
      "cell_type": "markdown",
      "source": [
        "# This is a knitting calculator for all your knitting needs.\n",
        "calculators included:\n",
        "\n",
        "- stiches to length calculator, given gauge, how long is your project\n",
        "- rows stitches to width calculator, given gauge, how wide is your project\n",
        "- find your gauge given length and witdth (area)\n",
        "<!-- - size calculator? like dividing things by 2 or something -->\n"
      ],
      "metadata": {
        "id": "kaKgiXDO9TDu"
      }
    },
    {
      "cell_type": "code",
      "source": [
        "def find_gauge(num_across:int, num_down:int, actual_length:float, actual_height:float)->float:\n",
        "    \"\"\"\n",
        "    Does the math to transfer a small gauge swatch to a 4 inch gauge swatch\n",
        "    num_accross\n",
        "    num_down\n",
        "    actual_length\n",
        "    actual_height\n",
        "    \"\"\"\n",
        "    len_to_4_ratio = 4 / actual_length\n",
        "    height_to_4_ratio = 4 / actual_height\n",
        "\n",
        "    gauge_len = num_across * len_to_4_ratio\n",
        "    gauge_height = num_down * height_to_4_ratio\n",
        "\n",
        "    print(\"the gauge for a 4 x 4 square is:\", \"\\n\",\n",
        "          gauge_len, \"stiches by\", gauge_height, \"rows\")\n",
        "\n",
        "\n",
        "\n",
        "find_gauge(20, 10, 5.5, 2)\n"
      ],
      "metadata": {
        "colab": {
          "base_uri": "https://localhost:8080/"
        },
        "id": "5Ox6Gpn4baaz",
        "outputId": "55c07700-3ff2-4e05-bc39-d88bda60fbbe"
      },
      "execution_count": null,
      "outputs": [
        {
          "output_type": "stream",
          "name": "stdout",
          "text": [
            "the gauge for a 4 x 4 square is: \n",
            " 14.545454545454547 stiches by 20.0 rows\n"
          ]
        }
      ]
    },
    {
      "cell_type": "code",
      "source": [
        "num_accross = 28\n",
        "num_down = 10\n",
        "actual_length = 3\n",
        "actual_height = 1\n",
        "find_gauge(num_accross, num_down, actual_length, actual_height)"
      ],
      "metadata": {
        "colab": {
          "base_uri": "https://localhost:8080/"
        },
        "id": "Sv3Fj7_RrMOu",
        "outputId": "45a0038b-7c45-4b58-ad23-666919f8ac37"
      },
      "execution_count": null,
      "outputs": [
        {
          "output_type": "stream",
          "name": "stdout",
          "text": [
            "the gauge for a 4 x 4 square is: \n",
            " 37.33333333333333 stiches by 40.0 rows\n"
          ]
        }
      ]
    },
    {
      "cell_type": "code",
      "execution_count": null,
      "metadata": {
        "id": "_N697AeM9KjU"
      },
      "outputs": [],
      "source": [
        "def find_length(num_stitches, gauge_stitches, gauge_len=4.):\n",
        "    \"\"\"\n",
        "    stiches to length calculator, given gauge, how long is your project\n",
        "    parameters:\n",
        "    num_stitches(int): number of stitches you will be knitting\n",
        "    gauge_stitches(int): number of stitches in your length of gauge\n",
        "    gauge_len(float): length of gauge  (default=4.)\n",
        "\n",
        "    return: (float)length of project\n",
        "\n",
        "    example:\n",
        "    print(find_length(num_stitches=80, gauge_stitches=16, gauge_len=4.))\n",
        "    >>>20.0\n",
        "    \"\"\"\n",
        "    #make float for good division\n",
        "    gauge_len = 1.0 * gauge_len\n",
        "    #unit\n",
        "    stitches_per_inch = gauge_stitches/gauge_len\n",
        "\n",
        "    #return length\n",
        "    return num_stitches/stitches_per_inch\n",
        "\n"
      ]
    },
    {
      "cell_type": "code",
      "source": [
        "#Enter number of stitches you will knit\n",
        "num_stitches = 72\n",
        "\n",
        "#enter number of stitches in your length of gauge\n",
        "gauge_stitches = 37\n",
        "\n",
        "#gauge length\n",
        "gauge_length = 4\n",
        "\n",
        "\n",
        "print(\"your project will be\",\n",
        "      find_length(num_stitches, gauge_stitches, gauge_length)*1.2,\"inches long\")"
      ],
      "metadata": {
        "colab": {
          "base_uri": "https://localhost:8080/"
        },
        "id": "542k0ytsA-ED",
        "outputId": "698dec73-a453-4e61-9253-659e3a5fe582"
      },
      "execution_count": null,
      "outputs": [
        {
          "output_type": "stream",
          "name": "stdout",
          "text": [
            "your project will be 9.340540540540541 inches long\n"
          ]
        }
      ]
    },
    {
      "cell_type": "code",
      "source": [
        "def find_height(num_rows, gauge_rows, gauge_height=4.):\n",
        "    \"\"\"\n",
        "    stiches to width calculator, given gauge, how tall is your project\n",
        "    parameters:\n",
        "    num_rows(int): number of rows you will be knitting\n",
        "    gauge_rows(int): number of rows in your gauge\n",
        "    gauge_height(float): length of gauge  (default=4.)\n",
        "\n",
        "    return: (float)height of project\n",
        "\n",
        "    example:\n",
        "    print(find_height(num_rows=80, gauge_rows=16, gauge_len=4.))\n",
        "    >>>20.0\n",
        "    \"\"\"\n",
        "    #make float for good division\n",
        "    gauge_height = 1.0 * gauge_height\n",
        "    #unit\n",
        "    stitches_per_inch = gauge_rows/gauge_height\n",
        "\n",
        "    #return height\n",
        "    return num_rows/stitches_per_inch"
      ],
      "metadata": {
        "id": "WQtk6mtYDTS3"
      },
      "execution_count": null,
      "outputs": []
    },
    {
      "cell_type": "code",
      "source": [
        "#Enter number of rows you will knit\n",
        "num_rows = 80\n",
        "\n",
        "#enter number of rows in gauge\n",
        "gauge_rows = 16\n",
        "\n",
        "#gauge length\n",
        "gauge_height = 4\n",
        "\n",
        "\n",
        "print(\"your project will be\",find_height(num_rows, gauge_rows, gauge_height),\n",
        "      \"inches tall\")"
      ],
      "metadata": {
        "colab": {
          "base_uri": "https://localhost:8080/"
        },
        "id": "0f278craD-CH",
        "outputId": "c6fbf78d-7c00-49e8-eed4-de184db9b04e"
      },
      "execution_count": null,
      "outputs": [
        {
          "output_type": "stream",
          "name": "stdout",
          "text": [
            "your project will be 20.0 inches tall\n"
          ]
        }
      ]
    },
    {
      "cell_type": "code",
      "source": [
        "def number_of_rows(length, gauge_rows, gauge_height=4.):\n",
        "    \"\"\"len to stitches calculator, given number of gauge rows,\n",
        "     how tall is your project\n",
        "    parameters:\n",
        "    length(float): length you will be knitting\n",
        "    gauge_rows(int): number of rows in your gauge\n",
        "    gauge_height(float): length of gauge  (default=4.)\n",
        "\n",
        "    return: (float)height of project\n",
        "\n",
        "    example:\n",
        "    print(number_of_rows(length=10., gauge_rows=16, gauge_len=4.))\n",
        "    >>>40.0\n",
        "    \"\"\"\n",
        "\n",
        "\n",
        "    #unit\n",
        "    stitches_per_inch = gauge_rows/gauge_height\n",
        "    #underestimate?\n",
        "    if length * stitches_per_inch != length * stitches_per_inch //1:\n",
        "        print(\"this will be an slight underestimate by less than one row\")\n",
        "\n",
        "    #return height\n",
        "    return int(length * stitches_per_inch // 1)\n"
      ],
      "metadata": {
        "id": "PfFMZ6XDF783"
      },
      "execution_count": null,
      "outputs": []
    },
    {
      "cell_type": "code",
      "source": [
        "#Enter number of inches you will knit\n",
        "length_inches = 10\n",
        "\n",
        "#enter number of stitches in your length of gauge\n",
        "gauge_stitches = 19\n",
        "\n",
        "#gauge length\n",
        "gauge_length = 4\n",
        "\n",
        "\n",
        "print(\"your project will be\",\n",
        "      number_of_rows(length_inches, gauge_stitches, gauge_length),\"rows long\")"
      ],
      "metadata": {
        "colab": {
          "base_uri": "https://localhost:8080/"
        },
        "id": "_wtcRKLRv99a",
        "outputId": "2fb66d32-28a8-453e-b094-d5d029703815"
      },
      "execution_count": null,
      "outputs": [
        {
          "output_type": "stream",
          "name": "stdout",
          "text": [
            "this will be an slight underestimate by less than one row\n",
            "your project will be 47 rows long\n"
          ]
        }
      ]
    },
    {
      "cell_type": "code",
      "source": [
        "def number_of_stitches(length, gauge_stitches, gauge_length=4.):\n",
        "    \"\"\"len to stitches calculator, given number of gauge rows,\n",
        "     how tall is your project\n",
        "    parameters:\n",
        "    length(float):length you will be knitting\n",
        "    gauge_stitches(int): number of rows in your gauge\n",
        "    gauge_height(float): length of gauge  (default=4.)\n",
        "\n",
        "    return: (float)height of project\n",
        "\n",
        "    example:\n",
        "    print(number_of_stitches(length=10., gauge_stitches=16, gauge_len=4.))\n",
        "    >>>40.0\n",
        "    \"\"\"\n",
        "\n",
        "    #unit\n",
        "    stitches_per_inch = gauge_stitches/gauge_length\n",
        "    #underestimate?\n",
        "    if length * stitches_per_inch != length * stitches_per_inch //1:\n",
        "        print(\"this will be an slight underestimate by less than one row\")\n",
        "\n",
        "    #return height\n",
        "    return int(length * stitches_per_inch // 1)"
      ],
      "metadata": {
        "id": "lbTCZl4gxWi4"
      },
      "execution_count": null,
      "outputs": []
    },
    {
      "cell_type": "code",
      "source": [
        "#Enter number of inches you will knit across\n",
        "length_inches = 10\n",
        "\n",
        "#enter number of stitches in your length of gauge\n",
        "gauge_stitches = 19\n",
        "\n",
        "#gauge length\n",
        "gauge_length = 4\n",
        "\n",
        "\n",
        "print(\"your project will be\",\n",
        "      number_of_stitches(length_inches, gauge_stitches, gauge_length),\n",
        "      \"stitches long\")"
      ],
      "metadata": {
        "colab": {
          "base_uri": "https://localhost:8080/"
        },
        "id": "fL4--lySxwzD",
        "outputId": "a7269540-cf8b-4e9c-ec74-2cc435d5c7b4"
      },
      "execution_count": null,
      "outputs": [
        {
          "output_type": "stream",
          "name": "stdout",
          "text": [
            "this will be an slight underestimate by less than one row\n",
            "your project will be 47 stitches long\n"
          ]
        }
      ]
    }
  ]
}